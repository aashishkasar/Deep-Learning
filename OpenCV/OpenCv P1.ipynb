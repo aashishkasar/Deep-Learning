{
 "cells": [
  {
   "cell_type": "markdown",
   "id": "6ccc9c03",
   "metadata": {},
   "source": [
    "## Image Manipulation\n",
    "\n",
    "1. Transformations, affine and non affine\n",
    "2. Transactaions\n",
    "3. Rotations\n",
    "4. Scalling, re-sizing and interpolations\n",
    "5. Image Pyramids\n",
    "6. Cropping\n",
    "7. Airthmetic Operations\n",
    "8. Bitwise Operations and Masking\n",
    "9. Convolutions & Blurring\n",
    "10. Sharpening\n",
    "11. Thresholding and Binarization\n",
    "12. Dilation, erosion, opening and closing\n",
    "13. Edge Detection & Image Gradients\n",
    "14. Perspective & Affine transforms\n",
    "15. Mini Projects # 1-Make a Live Sketch of Yourself!"
   ]
  },
  {
   "cell_type": "markdown",
   "id": "ad216978",
   "metadata": {},
   "source": [
    "### Trasformations\n",
    "    Transformations-are geometric distortions encated upon an image.\n",
    "    \n",
    "#### We use transformations to correct distortions or perspective issues from arising from the point of view an image was captured.\n",
    "\n",
    "### Types:\n",
    "#### * Affine\n",
    "#### * Non-Affine"
   ]
  },
  {
   "cell_type": "markdown",
   "id": "59259dab",
   "metadata": {},
   "source": [
    "## Translations\n",
    "\n",
    "#### This an affine transform that simply shifts the position of an image. \n",
    "#### We use.cv2.warpAffine to implement these transformations."
   ]
  },
  {
   "cell_type": "code",
   "execution_count": 62,
   "id": "fe3650b9",
   "metadata": {},
   "outputs": [],
   "source": [
    "import cv2\n",
    "import numpy as np\n",
    "\n",
    "image=  cv2.imread(r\"C:\\Users\\ADMIN\\Downloads\\landscap.jpg\")\n",
    "\n",
    "# Store height and widhth of the image\n",
    "\n",
    "height, width = image.shape[:2]\n",
    "\n",
    "quarter_height, quarter_widht = height/4, width/4\n",
    "\n",
    "#       / 1 0 Tx /\n",
    "#   T = /0 1 Ty /\n",
    "\n",
    "# T is our translation matrix\n",
    "T = np.float32([[1, 0, quarter_widht],[0, 1, quarter_height]])\n",
    "\n",
    "# We use warpAffine to transform the image using the matrix, T\n",
    "img_translation = cv2.warpAffine(image, T, (width, height))\n",
    "cv2.imshow('Translation',img_translation)\n",
    "cv2.waitKey(0)==ord(\"a\")\n",
    "cv2.destroyAllWindows() "
   ]
  },
  {
   "cell_type": "code",
   "execution_count": 63,
   "id": "8d05bf99",
   "metadata": {},
   "outputs": [
    {
     "name": "stdout",
     "output_type": "stream",
     "text": [
      "[[  1.     0.   400.  ]\n",
      " [  0.     1.   193.75]]\n"
     ]
    }
   ],
   "source": [
    "# Let's Take a look at T\n",
    "\n",
    "print(T)"
   ]
  },
  {
   "cell_type": "markdown",
   "id": "195be1db",
   "metadata": {},
   "source": [
    "###############################################################################################################"
   ]
  },
  {
   "cell_type": "markdown",
   "id": "30810e99",
   "metadata": {},
   "source": [
    "### Rotations\n",
    "\n",
    "cv2.getRoation Matrix2D(rotation_center_x,rotaition_center_y, angle of rotaion, scale)"
   ]
  },
  {
   "cell_type": "code",
   "execution_count": 64,
   "id": "334ad12f",
   "metadata": {},
   "outputs": [],
   "source": [
    "import cv2\n",
    "import numpy as np\n",
    "\n",
    "image = cv2.imread(r\"C:\\Users\\ADMIN\\Downloads\\autumn-poolside.jpg\")\n",
    "height, width = image.shape[:2]\n",
    "\n",
    "#Divide by two to roatate the image around its centre\n",
    "\n",
    "rotation_matrix=cv2.getRotationMatrix2D((width/2, height/2),90,1)\n",
    "\n",
    "rotated_image = cv2.warpAffine(image, rotation_matrix,(width,height))\n",
    "\n",
    "cv2.imshow('Roatated Image', rotated_image)\n",
    "cv2.waitKey(0)==ord(\"a\")\n",
    "cv2.destroyAllWindows()"
   ]
  },
  {
   "cell_type": "markdown",
   "id": "18742b8e",
   "metadata": {},
   "source": [
    "#### Notice all the black space surrounding the image.\n",
    "\n",
    "We could now crop the image as we can calculate its new size(we havent leraned cropping yet!)\n",
    "\n",
    "But here's another  method for simple ratations that uses the cv2.transfose function"
   ]
  },
  {
   "cell_type": "code",
   "execution_count": 65,
   "id": "1141b3fe",
   "metadata": {},
   "outputs": [],
   "source": [
    "# other option to Rotate\n",
    "\n",
    "img=cv2.imread(r\"C:\\Users\\ADMIN\\Downloads\\autumn-poolside.jpg\")\n",
    "\n",
    "roatated_image = cv2.transpose(img)\n",
    "\n",
    "cv2.imshow('Roatated Image - Method 2', rotated_image)\n",
    "cv2.waitKey(0)==ord(\"a\")\n",
    "cv2.destroyAllWindows()"
   ]
  },
  {
   "cell_type": "markdown",
   "id": "a8e5c667",
   "metadata": {},
   "source": [
    "###############################################################################################################"
   ]
  },
  {
   "cell_type": "markdown",
   "id": "881f0b3c",
   "metadata": {},
   "source": [
    "### Scaling, re-sizing and inerpolations\n",
    "\n",
    "reisizing is very easy using the cv2.resize function, its arguments are:\n",
    "\n",
    "cv2.resize(image,dsize(output image size), x scale, y scale, interpolation)"
   ]
  },
  {
   "cell_type": "code",
   "execution_count": 66,
   "id": "fba08715",
   "metadata": {},
   "outputs": [],
   "source": [
    "import cv2\n",
    "import numpy as np\n",
    "\n",
    "# Load our input image\n",
    "\n",
    "image = cv2.imread(r\"C:\\Users\\ADMIN\\Downloads\\landscap.jpg\")\n",
    "\n",
    "# Lets make our image 3/4 of its original size\n",
    "\n",
    "image_scaled = cv2.resize(image, None, fx=0.75, fy=0.75)\n",
    "cv2.imshow('Scalling - Linear Interpolation', image_scaled)\n",
    "cv2.waitKey()\n",
    "\n",
    "# Lets double the size of our image\n",
    "img_scaled = cv2.resize(image, None, fx=2, fy=2, interpolation = cv2.INTER_CUBIC)\n",
    "cv2.imshow('Scalli ng - Cubic Interpolation', img_scaled)\n",
    "cv2.waitKey()\n",
    "\n",
    "# Lets skew the re-sizing by setting exact dimensions\n",
    "img_scaled = cv2.resize(image,(900,400), interpolation = cv2.INTER_AREA)\n",
    "cv2.imshow('Scaling - Skewed Size', img_scaled)\n",
    "cv2.waitKey(0)==ord(\"a\")\n",
    "\n",
    "cv2.destroyAllWindows()"
   ]
  },
  {
   "cell_type": "markdown",
   "id": "b723da47",
   "metadata": {},
   "source": [
    "###############################################################################################################"
   ]
  },
  {
   "cell_type": "markdown",
   "id": "e8489cf9",
   "metadata": {},
   "source": [
    "## Image Pyramids\n",
    "\n",
    "Useful when scalling images in object detection."
   ]
  },
  {
   "cell_type": "code",
   "execution_count": 67,
   "id": "0d6caff7",
   "metadata": {},
   "outputs": [],
   "source": [
    "import cv2\n",
    "\n",
    "image = cv2.imread(r\"C:\\Users\\ADMIN\\Downloads\\monkey-timon-the-lion-king-pumbaa-wallpaper-preview.jpg\")\n",
    "\n",
    "smaller = cv2.pyrDown(image)\n",
    "larger = cv2.pyrUp(smaller)\n",
    "\n",
    "cv2.imshow('Original',image)\n",
    "\n",
    "cv2.imshow('Smaller', smaller)\n",
    "cv2.imshow('Larger', larger)\n",
    "cv2.waitKey(0)==ord('a')\n",
    "cv2.destroyAllWindows()"
   ]
  },
  {
   "cell_type": "markdown",
   "id": "e7fbf2f7",
   "metadata": {},
   "source": [
    "#### for loop samaller smaller image"
   ]
  },
  {
   "cell_type": "code",
   "execution_count": 68,
   "id": "32ccc7b2",
   "metadata": {},
   "outputs": [],
   "source": [
    "import cv2\n",
    "\n",
    "image = cv2.imread(r\"C:\\Users\\ADMIN\\Downloads\\monkey-timon-the-lion-king-pumbaa-wallpaper-preview.jpg\")\n",
    "\n",
    "cv2.imshow('Original', image)\n",
    "\n",
    "for i in range(4):\n",
    "    smaller = cv2.pyrDown(image)\n",
    "    image = smaller\n",
    "    cv2.imshow('Smaller ' + str(i), smaller)\n",
    "\n",
    "    # Check for user input to break out of the loop\n",
    "    key = cv2.waitKey(0)\n",
    "    if key == ord('q'):\n",
    "        break\n",
    "\n",
    "cv2.destroyAllWindows()\n"
   ]
  },
  {
   "cell_type": "markdown",
   "id": "ce8a875d",
   "metadata": {},
   "source": [
    "####################################################################################################################"
   ]
  },
  {
   "cell_type": "markdown",
   "id": "87583f28",
   "metadata": {},
   "source": [
    "### Cropping"
   ]
  },
  {
   "cell_type": "code",
   "execution_count": 69,
   "id": "886360e9",
   "metadata": {},
   "outputs": [],
   "source": [
    "import cv2\n",
    "import numpy as np\n",
    "\n",
    "image = cv2.imread(r\"C:\\Users\\ADMIN\\Downloads\\monkey-timon-the-lion-king-pumbaa-wallpaper-preview.jpg\")\n",
    "height, width = image.shape[:2]\n",
    "\n",
    "# Lets get the starting pixel coording (top Left of cropping rectangle)\n",
    "start_row, start_col = int(height * .25), int(width * .25)\n",
    "\n",
    "# let's get the ending pixel coordinates (bottom right)\n",
    "end_row, end_col = int(height * .75), int(width * .75)\n",
    "\n",
    "# Simply use indexing to crop out the rectangle we desire\n",
    "cropped = image[start_row:end_row, start_col:end_col]\n",
    "\n",
    "cv2.imshow(\"Original Image\", image)\n",
    "cv2.waitKey(0)\n",
    "cv2.imshow(\"Cropped Image\",cropped)\n",
    "cv2.waitKey(0)==ord('a')\n",
    "cv2.destroyAllWindows()"
   ]
  },
  {
   "cell_type": "markdown",
   "id": "e2323eb2",
   "metadata": {},
   "source": [
    "####################################################################################################################"
   ]
  },
  {
   "cell_type": "markdown",
   "id": "7368f3f3",
   "metadata": {},
   "source": [
    "### Arithmatic Operations"
   ]
  },
  {
   "cell_type": "markdown",
   "id": "14281fe1",
   "metadata": {},
   "source": [
    "These are simple operations that allow us to directly add to the color intensity.\n",
    "\n",
    "Calculates the per-element operation of two arrays. The overall effect is increasing or decresing brightness."
   ]
  },
  {
   "cell_type": "code",
   "execution_count": 70,
   "id": "2103ab59",
   "metadata": {},
   "outputs": [],
   "source": [
    "import cv2\n",
    "import numpy as np\n",
    "\n",
    "image = cv2.imread(r\"C:\\Users\\ADMIN\\Downloads\\monkey-timon-the-lion-king-pumbaa-wallpaper-preview.jpg\")\n",
    "\n",
    "# Create a matrix of ones, then multiply it by a scaler of 100\n",
    "# This gives a matrix with same dimensions of our image with all values being 100\n",
    "M = np.ones(image.shape, dtype = \"uint8\") * 75    #<-- you can change IMGE brightness changing value\n",
    "\n",
    "# We use this to add this matrix M, to our image\n",
    "# Notice the increase in brightness\n",
    "\n",
    "added = cv2.add(image, M)\n",
    "cv2.imshow(\"Added\", added)\n",
    "\n",
    "# Linkwise we can also sunstract\n",
    "# Notice the decrease in the brightness\n",
    "\n",
    "substracted = cv2.subtract(image, M)\n",
    "cv2.imshow(\"Subtracted\", substracted)\n",
    "\n",
    "cv2.waitKey(0)\n",
    "cv2.destroyAllWindows()"
   ]
  },
  {
   "cell_type": "code",
   "execution_count": 12,
   "id": "c6cd58b2",
   "metadata": {},
   "outputs": [
    {
     "name": "stdout",
     "output_type": "stream",
     "text": [
      "[[[75 75 75]\n",
      "  [75 75 75]\n",
      "  [75 75 75]\n",
      "  ...\n",
      "  [75 75 75]\n",
      "  [75 75 75]\n",
      "  [75 75 75]]\n",
      "\n",
      " [[75 75 75]\n",
      "  [75 75 75]\n",
      "  [75 75 75]\n",
      "  ...\n",
      "  [75 75 75]\n",
      "  [75 75 75]\n",
      "  [75 75 75]]\n",
      "\n",
      " [[75 75 75]\n",
      "  [75 75 75]\n",
      "  [75 75 75]\n",
      "  ...\n",
      "  [75 75 75]\n",
      "  [75 75 75]\n",
      "  [75 75 75]]\n",
      "\n",
      " ...\n",
      "\n",
      " [[75 75 75]\n",
      "  [75 75 75]\n",
      "  [75 75 75]\n",
      "  ...\n",
      "  [75 75 75]\n",
      "  [75 75 75]\n",
      "  [75 75 75]]\n",
      "\n",
      " [[75 75 75]\n",
      "  [75 75 75]\n",
      "  [75 75 75]\n",
      "  ...\n",
      "  [75 75 75]\n",
      "  [75 75 75]\n",
      "  [75 75 75]]\n",
      "\n",
      " [[75 75 75]\n",
      "  [75 75 75]\n",
      "  [75 75 75]\n",
      "  ...\n",
      "  [75 75 75]\n",
      "  [75 75 75]\n",
      "  [75 75 75]]]\n"
     ]
    }
   ],
   "source": [
    "M = np.ones(image.shape, dtype = \"uint8\") * 75\n",
    "print(M)"
   ]
  },
  {
   "cell_type": "markdown",
   "id": "e11fc229",
   "metadata": {},
   "source": [
    "##################################################################################################################"
   ]
  },
  {
   "cell_type": "markdown",
   "id": "bc75081a",
   "metadata": {},
   "source": [
    "### Bitwise Operation and Masking\n",
    "\n",
    "#### To demonstrate these operations lets create some simple images"
   ]
  },
  {
   "cell_type": "code",
   "execution_count": 71,
   "id": "5fe9b50d",
   "metadata": {},
   "outputs": [],
   "source": [
    "import cv2\n",
    "import numpy as np\n",
    "\n",
    "# If you're wondering why only two dimensions, well this is a grayscale image,\n",
    "# if we were doing a colored image, we'd use\n",
    "# rectangle = np.zeros((300,300, 3), np.uint8)\n",
    "\n",
    "# Making a square\n",
    "square = np.zeros((300,300), np.uint8)\n",
    "cv2.rectangle(square,(50,50),(250,250),255,-2)\n",
    "cv2.imshow(\"Square\", square)\n",
    "cv2.waitKey(0)\n",
    "\n",
    "# Making an ellipse\n",
    "ellipse = np.zeros((300,300), np.uint8)\n",
    "cv2.ellipse(ellipse,(150,150),(150,150),30,0,180,255,-1)\n",
    "cv2.imshow(\"Ellipse\", ellipse)\n",
    "cv2.waitKey(0)\n",
    "\n",
    "cv2.destroyAllWindows()\n"
   ]
  },
  {
   "cell_type": "markdown",
   "id": "5cc19555",
   "metadata": {},
   "source": [
    "##  Experimenting with some bitwise operations"
   ]
  },
  {
   "cell_type": "code",
   "execution_count": 72,
   "id": "91e180c8",
   "metadata": {},
   "outputs": [],
   "source": [
    "import cv2\n",
    "import numpy as np\n",
    "\n",
    "# Shows only where they intersect\n",
    "And = cv2.bitwise_and(square,ellipse)\n",
    "cv2.imshow(\"AND\", And)\n",
    "cv2.waitKey(0)\n",
    "\n",
    "# Show where either square or ellipse is\n",
    "bitwiseOr = cv2.bitwise_or(square,ellipse)\n",
    "cv2.imshow(\"OR\", bitwiseOr)\n",
    "cv2.waitKey(0)\n",
    "\n",
    "# Show where either exists by itself\n",
    "bitwiseXor = cv2.bitwise_xor(square,ellipse)\n",
    "cv2.imshow(\"XOR\", bitwiseXor)\n",
    "cv2.waitKey(0)\n",
    "\n",
    "# Show everything that isn't part of the square\n",
    "bitwiseNot_sq = cv2.bitwise_not(square)\n",
    "cv2.imshow(\"NOT - square\", bitwiseNot_sq)\n",
    "cv2.waitKey(0)\n",
    "\n",
    "cv2.destroyAllWindows()\n"
   ]
  },
  {
   "cell_type": "markdown",
   "id": "e36f1960",
   "metadata": {},
   "source": [
    "#################################################################################################################"
   ]
  },
  {
   "cell_type": "markdown",
   "id": "f07f4e3f",
   "metadata": {},
   "source": [
    "## Convolutions and Blurring"
   ]
  },
  {
   "cell_type": "code",
   "execution_count": 73,
   "id": "d4e6230a",
   "metadata": {},
   "outputs": [],
   "source": [
    "import cv2\n",
    "import numpy as np\n",
    "\n",
    "image = cv2.imread(r\"C:\\Users\\ADMIN\\Downloads\\ch.jpg\")\n",
    "cv2.imshow(\"Original Image\", image)\n",
    "cv2.waitKey(0)\n",
    "\n",
    "# Creating our 3 x 3 kernel\n",
    "kernel_3x3 = np.ones((3,3),np.float32)/9\n",
    "\n",
    "# We use the cv2.fitler2D to convolve the kernel with an image\n",
    "blurred = cv2.filter2D(image, -1, kernel_3x3)\n",
    "cv2.imshow('3x3 Kernel Blurring',blurred)\n",
    "cv2.waitKey(0)\n",
    "\n",
    "# Creating our 7 x 7 kernel\n",
    "kernel_7x7 = np.ones((7,7), np.float32) / 49\n",
    "\n",
    "blurred2 = cv2.filter2D(image, -1, kernel_7x7)\n",
    "cv2.imshow('7x7 Kernel Blurring', blurred2)\n",
    "cv2.waitKey(0)\n",
    "\n",
    "cv2.destroyAllWindows()"
   ]
  },
  {
   "cell_type": "markdown",
   "id": "b6a3ceb5",
   "metadata": {},
   "source": [
    " ## Other commonly used blurring methods in OpenCV"
   ]
  },
  {
   "cell_type": "code",
   "execution_count": 74,
   "id": "981c13c1",
   "metadata": {},
   "outputs": [],
   "source": [
    "import cv2\n",
    "import numpy as np\n",
    "\n",
    "image = cv2.imread(r\"C:\\Users\\ADMIN\\Downloads\\birds.jpg\")\n",
    "\n",
    "# Averagingdone by convolving the image with a normalized box filter.\n",
    "# This takes the pixels under the box and replaces the central element\n",
    "# Box size needs to odd and positive\n",
    "\n",
    "blur = cv2.blur(image,(3,3))\n",
    "cv2.imshow('Averaging', blur)\n",
    "cv2.waitKey(0)\n",
    "\n",
    "# Instead of box filter, gaussian kernel\n",
    "Gaussian = cv2.blur(image,(7,7),0)\n",
    "cv2.imshow('Gaussian Blurring', Gaussian)\n",
    "cv2.waitKey(0)\n",
    "\n",
    "# Takes median of all the pixels under kernel area and central\n",
    "# element is replaced with this meadian value\n",
    "median = cv2.medianBlur(image, 5)\n",
    "cv2.imshow('Meadian Blurring',median)\n",
    "cv2.waitKey(0)\n",
    "\n",
    "# Bilateral is very effective in noise removal while keeping edges sharp\n",
    "bilateral = cv2.bilateralFilter(image, 9, 75, 75)\n",
    "cv2.imshow('Bilateral Bluring',bilateral)\n",
    "cv2.waitKey(0)\n",
    "cv2.destroyAllWindows()"
   ]
  },
  {
   "cell_type": "markdown",
   "id": "fc95b1cc",
   "metadata": {},
   "source": [
    "##################################################################################################################"
   ]
  },
  {
   "cell_type": "markdown",
   "id": "269fbe2b",
   "metadata": {},
   "source": [
    "## Image De-noising -Non-Local Means Denoising"
   ]
  },
  {
   "cell_type": "code",
   "execution_count": 75,
   "id": "28ffd4e9",
   "metadata": {},
   "outputs": [],
   "source": [
    "import cv2\n",
    "import numpy as np\n",
    "\n",
    "image = cv2.imread(r\"C:\\Users\\ADMIN\\Downloads\\ch.jpg\")\n",
    "\n",
    "# Parameters, after Non are - the filter strenght 'h' (5-10 is a good range)\n",
    "# Next is hForColorComponents, set as same value as h again\n",
    "\n",
    "dst = cv2.fastNlMeansDenoisingColored(image, None, 6, 6, 7, 21)\n",
    "\n",
    "cv2.imshow('Fast Means Denoising', dst)\n",
    "cv2.waitKey(0)\n",
    "\n",
    "cv2.destroyAllWindows()"
   ]
  },
  {
   "cell_type": "markdown",
   "id": "8937efb8",
   "metadata": {},
   "source": [
    "### There are 4 variations of Non-Local Means Denosing:\n"
   ]
  },
  {
   "cell_type": "markdown",
   "id": "441fb9a3",
   "metadata": {},
   "source": [
    "* cv2.fastNMeansDenoising()-works with a single grayscale images\n",
    "* cv2.fastNMeansDenoisingColored()-works with color image.\n",
    "* cv2.fastNMeansDenoisingMulti() - works with image sequence captured in short period of time(grayscale images)\n",
    "* cv2.fastNMeansDenoisingColoredMulti() -same as above, but for color images"
   ]
  },
  {
   "cell_type": "markdown",
   "id": "f4d0e457",
   "metadata": {},
   "source": [
    "#################################################################################################################"
   ]
  },
  {
   "cell_type": "markdown",
   "id": "9c64c4f7",
   "metadata": {},
   "source": [
    "## Sharpening"
   ]
  },
  {
   "cell_type": "markdown",
   "id": "1cfccb55",
   "metadata": {},
   "source": [
    "By altering our we can implement sharpning, which has the effects of in strenghening or emphasizing edges in an image."
   ]
  },
  {
   "cell_type": "code",
   "execution_count": 76,
   "id": "ed29942c",
   "metadata": {},
   "outputs": [],
   "source": [
    "import cv2\n",
    "import numpy as np\n",
    "\n",
    "image = cv2.imread(r\"C:\\Users\\ADMIN\\Downloads\\ch.jpg\")\n",
    "cv2.imshow('Original', image)\n",
    "\n",
    "# Crate our shapening kernel, we dont normalize since the\n",
    "# the values in the matrix sum to 1\n",
    "\n",
    "kernel_sharpening = np.array([[-1,-1,-1],\n",
    "                             [-1,9,-1],\n",
    "                             [-1,-1,-1]])\n",
    "\n",
    "# applying different kernels to the input image\n",
    "sharpened = cv2.filter2D(image, -1, kernel_sharpening)\n",
    "\n",
    "cv2.imshow('Image Sharpening', sharpened)\n",
    "\n",
    "cv2.waitKey(0)\n",
    "cv2.destroyAllWindows()"
   ]
  },
  {
   "cell_type": "code",
   "execution_count": null,
   "id": "dc450b93",
   "metadata": {},
   "outputs": [],
   "source": []
  }
 ],
 "metadata": {
  "kernelspec": {
   "display_name": "Python 3 (ipykernel)",
   "language": "python",
   "name": "python3"
  },
  "language_info": {
   "codemirror_mode": {
    "name": "ipython",
    "version": 3
   },
   "file_extension": ".py",
   "mimetype": "text/x-python",
   "name": "python",
   "nbconvert_exporter": "python",
   "pygments_lexer": "ipython3",
   "version": "3.9.13"
  }
 },
 "nbformat": 4,
 "nbformat_minor": 5
}
