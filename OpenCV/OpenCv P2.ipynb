{
 "cells": [
  {
   "cell_type": "markdown",
   "id": "7ac8e833",
   "metadata": {},
   "source": [
    "## Image Segamentation"
   ]
  },
  {
   "cell_type": "markdown",
   "id": "243a1e93",
   "metadata": {},
   "source": [
    "# Contours"
   ]
  },
  {
   "cell_type": "code",
   "execution_count": 1,
   "id": "a0ac5678",
   "metadata": {},
   "outputs": [
    {
     "name": "stdout",
     "output_type": "stream",
     "text": [
      "Number of Contours found = 3\n"
     ]
    }
   ],
   "source": [
    "import cv2\n",
    "import numpy as np\n",
    "\n",
    "# Lets Load a simple image with 3 black squres\n",
    "image=cv2.imread(r\"D:\\SaxonSirNotes\\openCV\\Part 2\\9.1 MasteringComputerVision_V1.03.zip\\Master OpenCV\\images\\shapes.jpg\")\n",
    "cv2.imshow('Input Image', image)\n",
    "cv2.waitKey(0)\n",
    "\n",
    "# Grayscale\n",
    "\n",
    "gray = cv2.cvtColor(image,cv2.COLOR_BGR2GRAY)\n",
    "\n",
    "# Find Canny edges\n",
    "edged = cv2.Canny(gray, 30, 200)\n",
    "cv2.imshow('Canny Edges', edged)\n",
    "cv2.waitKey(0)\n",
    "\n",
    "\n",
    "# Finding Contures\n",
    "# Use a copy of your image e.g. edged.copy(), since findCountours alter the image\n",
    "contours, hierarchy = cv2.findContours(edged, cv2.RETR_EXTERNAL, cv2.CHAIN_APPROX_NONE)\n",
    "cv2.imshow('Canny Edges after Contouring', edged)\n",
    "cv2.waitKey(0)\n",
    "\n",
    "print(\"Number of Contours found = \" +str(len(contours)))\n",
    "\n",
    "\n",
    "# Draw all contours\n",
    "#Use '-1' as 3rd parameter to draw all\n",
    "cv2.drawContours(image, contours, -1,(0,255,0),3 )  # -1 for show all contours\n",
    "\n",
    "cv2.imshow('Contours', image)\n",
    "cv2.waitKey(0)\n",
    "cv2.destroyAllWindows()"
   ]
  },
  {
   "cell_type": "markdown",
   "id": "5d5bbcd6",
   "metadata": {},
   "source": [
    "# Hierarchy in Contours"
   ]
  },
  {
   "cell_type": "code",
   "execution_count": 2,
   "id": "058f86ff",
   "metadata": {},
   "outputs": [
    {
     "name": "stdout",
     "output_type": "stream",
     "text": [
      "Number of Contours found = 8\n"
     ]
    }
   ],
   "source": [
    "import cv2\n",
    "import numpy as np\n",
    "\n",
    "# Lets Load a simple image with 3 black squres\n",
    "image=cv2.imread(r\"D:\\SaxonSirNotes\\openCV\\Part 2\\9.1 MasteringComputerVision_V1.03.zip\\Master OpenCV\\images\\shapes_donut.jpg\")\n",
    "cv2.imshow('Input Image', image)\n",
    "cv2.waitKey(0)\n",
    "\n",
    "# Grayscale\n",
    "\n",
    "gray = cv2.cvtColor(image,cv2.COLOR_BGR2GRAY)\n",
    "\n",
    "# Find Canny edges\n",
    "edged = cv2.Canny(gray, 30, 200)\n",
    "cv2.imshow('Canny Edges', edged)\n",
    "cv2.waitKey(0)\n",
    "\n",
    "\n",
    "# Finding Contures\n",
    "# Use a copy of your image e.g. edged.copy(), since findCountours alter the image\n",
    "contours, hierarchy = cv2.findContours(edged, cv2.RETR_LIST, cv2.CHAIN_APPROX_NONE)\n",
    "cv2.imshow('Canny Edges after Contouring', edged)\n",
    "cv2.waitKey(0)\n",
    "\n",
    "print(\"Number of Contours found = \" +str(len(contours)))\n",
    "\n",
    "\n",
    "# Draw all contours\n",
    "#Use '-1' as 3rd parameter to draw all\n",
    "cv2.drawContours(image, contours, -1,(0,255,0),3 )  # -1 for show all contours\n",
    "\n",
    "cv2.imshow('Contours', image)\n",
    "cv2.waitKey(0)\n",
    "cv2.destroyAllWindows()"
   ]
  },
  {
   "cell_type": "markdown",
   "id": "d4b96049",
   "metadata": {},
   "source": [
    "#### cv2.findContours(image, Retrieval Mode, Approximation Method)\n",
    "\n",
    "Returns->contours, hierarchy\n",
    "\n",
    "* `NOTE` In OpenCV 3.X, findContours returns a 3rd argument which is ret (or a boolean indicating if the function was successfully run).\n",
    "\n",
    "If you're using OpenCV 3.X replace line 12 with:\n",
    "\n",
    "contours, hierarchy = cv2.findContours (image, cv2.RETR_EXTERNAL, cv2.CHAIN APPROX_NONE)\n",
    "\n",
    "The variable 'contours' are stored as a numpy array of (x,y) points that form the contour\n",
    "\n",
    "While, 'hierarchy' describes the child-parent relationships between contours (i.e. contours within contours)\n",
    "\n",
    "#### Approximation Methods\n",
    "\n",
    "Using cv2.CHAIN APPROX_NONE stores all the boundary points. But we don't necessarily need all bounding points. If the points form a straight line, we only need the start and ending points of that line.\n",
    "\n",
    "Using cv2.CHAIN APPROX SIMPLE instead only provides these start and end points of bounding contours, thus resulting in much more efficent storage of contour information.."
   ]
  },
  {
   "cell_type": "markdown",
   "id": "3698c932",
   "metadata": {},
   "source": [
    "## Sorting Contours\n",
    "\n",
    "We can sort contours in many ways."
   ]
  },
  {
   "cell_type": "code",
   "execution_count": 3,
   "id": "b43f70ca",
   "metadata": {},
   "outputs": [
    {
     "name": "stdout",
     "output_type": "stream",
     "text": [
      "Number of contours found =  143\n"
     ]
    }
   ],
   "source": [
    "import cv2\n",
    "import numpy as np\n",
    "\n",
    "# Load our image\n",
    "#image = cv2.imread(r\"D:\\SaxonSirNotes\\openCV\\Part 2\\9.1 MasteringComputerVision_V1.03.zip\\Master OpenCV\\images\\bunchofshapes.jpg\")\n",
    "image = cv2.imread(r\"C:\\Users\\ADMIN\\Downloads\\shapes.jpg\")\n",
    "cv2.imshow('0 - Original Image', image)\n",
    "cv2.waitKey(0)\n",
    "\n",
    "# Create a black image with same dimensions as our loaded image\n",
    "blank_image = np.zeros((image.shape[0], image.shape[1], 3))\n",
    "\n",
    "# Create a copy of our original image\n",
    "orginal_image = image\n",
    "\n",
    "# Grayscale our image\n",
    "gray = cv2.cvtColor(image,cv2.COLOR_BGR2GRAY)\n",
    "\n",
    "# Find Canny edges\n",
    "edged = cv2.Canny(gray, 50, 200)\n",
    "cv2.imshow('1 - Canny Edges', edged)\n",
    "cv2.waitKey(0)\n",
    "\n",
    "# Find contours and print how many were found\n",
    "contours, hierarchy = cv2.findContours(edged.copy(), cv2.RETR_EXTERNAL, cv2.CHAIN_APPROX_NONE)\n",
    "print (\"Number of contours found = \", len(contours))\n",
    "\n",
    "#Draw all contours\n",
    "cv2.drawContours(blank_image, contours, -1, (0,255,0), 3)\n",
    "cv2.imshow('2 - All Contours over blank image', blank_image)\n",
    "cv2.waitKey(0)\n",
    "\n",
    "# Draw all contours over blank image\n",
    "cv2.drawContours(image, contours, -1, (0,255,0), 3)\n",
    "cv2.imshow('3 - All Contours', image)\n",
    "cv2.waitKey(0)\n",
    "\n",
    "cv2.destroyAllWindows()"
   ]
  },
  {
   "cell_type": "markdown",
   "id": "38fe3249",
   "metadata": {},
   "source": [
    "## Let's now sort by area"
   ]
  },
  {
   "cell_type": "code",
   "execution_count": 4,
   "id": "8e557f21",
   "metadata": {},
   "outputs": [
    {
     "name": "stdout",
     "output_type": "stream",
     "text": [
      "[0.0, 0.0, 0.0, 5.5, 22.0, 0.5, 0.0, 7.0, 1.5, 0.0, 6.5, 3.0, 55.0, 0.0, 0.5, 0.0, 0.0, 152.5, 0.0, 18.5, 43.5, 1.0, 0.0, 0.0, 0.0, 7.5, 4.0, 69.0, 0.0, 0.0, 1.0, 67.0, 81.0, 0.0, 0.5, 0.0, 34.5, 16.0, 0.0, 6.0, 0.0, 2.0, 252.5, 7.0, 0.0, 30.0, 2.0, 0.0, 89.5, 41.0, 0.0, 3.5, 104.5, 29.5, 0.5, 0.0, 6.0, 13.0, 0.0, 1.0, 560.5, 83.0, 68.5, 132.5, 2.5, 19.5, 2.5, 1.0, 37.0, 178.5, 20.5, 0.0, 0.0, 0.5, 0.0, 1082.0, 0.5, 37.0, 115.5, 198.0, 184.5, 10.0, 0.0, 0.0, 1.0, 0.0, 2.0, 0.0, 0.0, 410.5, 10.5, 10.0, 0.0, 249.5, 0.5, 0.0, 2.0, 106.0, 45.5, 24.5, 47.0, 11.0, 0.0, 526.5, 4.5, 0.0, 0.0, 0.5, 199.0, 3.0, 11.5, 0.0, 3.5, 0.5, 1824.0, 22.0, 6.0, 3.0, 5362.0, 223.5, 0.0, 0.0, 0.5, 0.0, 23.5, 74.5, 20.5, 6.5, 11.0, 0.0, 254.0, 0.0, 16.5, 9.0, 3.0, 52.5, 4.0, 2.0, 0.0, 54.0, 297.0, 38.0, 142.5]\n",
      "Contor Areas before sorting None\n",
      "[5362.0, 1824.0, 1082.0, 560.5, 526.5, 410.5, 297.0, 254.0, 252.5, 249.5, 223.5, 199.0, 198.0, 184.5, 178.5, 152.5, 142.5, 132.5, 115.5, 106.0, 104.5, 89.5, 83.0, 81.0, 74.5, 69.0, 68.5, 67.0, 55.0, 54.0, 52.5, 47.0, 45.5, 43.5, 41.0, 38.0, 37.0, 37.0, 34.5, 30.0, 29.5, 24.5, 23.5, 22.0, 22.0, 20.5, 20.5, 19.5, 18.5, 16.5, 16.0, 13.0, 11.5, 11.0, 11.0, 10.5, 10.0, 10.0, 9.0, 7.5, 7.0, 7.0, 6.5, 6.5, 6.0, 6.0, 6.0, 5.5, 4.5, 4.0, 4.0, 3.5, 3.5, 3.0, 3.0, 3.0, 3.0, 2.5, 2.5, 2.0, 2.0, 2.0, 2.0, 2.0, 1.5, 1.0, 1.0, 1.0, 1.0, 1.0, 0.5, 0.5, 0.5, 0.5, 0.5, 0.5, 0.5, 0.5, 0.5, 0.5, 0.0, 0.0, 0.0, 0.0, 0.0, 0.0, 0.0, 0.0, 0.0, 0.0, 0.0, 0.0, 0.0, 0.0, 0.0, 0.0, 0.0, 0.0, 0.0, 0.0, 0.0, 0.0, 0.0, 0.0, 0.0, 0.0, 0.0, 0.0, 0.0, 0.0, 0.0, 0.0, 0.0, 0.0, 0.0, 0.0, 0.0, 0.0, 0.0, 0.0, 0.0, 0.0, 0.0]\n",
      "Contor Areas after sorting None\n"
     ]
    }
   ],
   "source": [
    "import cv2\n",
    "import numpy as np\n",
    "\n",
    "# Function we'll use to display contour area\n",
    "\n",
    "def get_contour_areas(contours):\n",
    "    # returns the areas of all contours as list\n",
    "    all_areas = []\n",
    "    for cnt in contours:\n",
    "        area = cv2.contourArea(cnt)\n",
    "        all_areas.append(area)\n",
    "    return all_areas\n",
    "\n",
    "# Load our image\n",
    "#image = cv2.imread(r\"D:\\SaxonSirNotes\\openCV\\Part 2\\9.1 MasteringComputerVision_V1.03.zip\\Master OpenCV\\images\\bunchofshapes.jpg\")\n",
    "image = cv2.imread(r\"C:\\Users\\ADMIN\\Downloads\\shapes.jpg\")\n",
    "orginal_image = image\n",
    "\n",
    "# Let's print the areas of the contours before sorting\n",
    "print (\"Contor Areas before sorting\", \n",
    "       print (get_contour_areas(contours)))\n",
    "\n",
    "# Sort contours large to small\n",
    "sorted_contours = sorted(contours, key=cv2.contourArea, reverse=True)\n",
    "#sorted_contours = sorted(contours, key=cv2.contourArea, reverse=True)[:3]\n",
    "\n",
    "print (\"Contor Areas after sorting\", \n",
    "       print (get_contour_areas(sorted_contours)))\n",
    "\n",
    "# Iterate over our contours and draw one at a time\n",
    "for c in sorted_contours:\n",
    "    cv2.drawContours(orginal_image, [c], -1, (255,0,0), 3)\n",
    "    cv2.waitKey(0)\n",
    "    cv2.imshow('Contours by area', orginal_image)\n",
    "\n",
    "cv2.waitKey(0)\n",
    "cv2.destroyAllWindows()"
   ]
  },
  {
   "cell_type": "markdown",
   "id": "138d68a7",
   "metadata": {},
   "source": [
    "# Approximating Contours and Convex Hull"
   ]
  },
  {
   "cell_type": "markdown",
   "id": "996d8ee6",
   "metadata": {},
   "source": [
    "#### cv2.approxPolyDP(contour,Approximation Accuracy, Closed)"
   ]
  },
  {
   "cell_type": "markdown",
   "id": "0f772be4",
   "metadata": {},
   "source": [
    "* contour - is the individual contour we wish to approximate\n",
    "* Approximation Accuracy - Important parameter is derterminig the accuracy of the approximation. Small values give precise- approximations, large values give more generic approximation. A good rule of thumb is less than 5% of the contour perimeter\n",
    "* Closed - a Boolean value that states whether the approximate contour should be open or closed"
   ]
  },
  {
   "cell_type": "code",
   "execution_count": 5,
   "id": "d0785d47",
   "metadata": {},
   "outputs": [],
   "source": [
    "import numpy as np\n",
    "import cv2\n",
    "\n",
    "# Load image and keep a copy\n",
    "image = cv2.imread(r\"D:\\SaxonSirNotes\\openCV\\Part 2\\9.1 MasteringComputerVision_V1.03.zip\\Master OpenCV\\images\\house.jpg\")\n",
    "orig_image = image.copy()\n",
    "cv2.imshow('Original Image', orig_image)\n",
    "cv2.waitKey(0) \n",
    "\n",
    "# Grayscale and binarize\n",
    "gray = cv2.cvtColor(image, cv2.COLOR_BGR2GRAY)\n",
    "ret, thresh = cv2.threshold(gray, 127, 255, cv2.THRESH_BINARY_INV)\n",
    "\n",
    "# Find contours \n",
    "contours, hierarchy = cv2.findContours(thresh.copy(), cv2.RETR_LIST, cv2.CHAIN_APPROX_NONE)\n",
    "\n",
    "# Iterate through each contour and compute the bounding rectangle\n",
    "for c in contours:\n",
    "    x,y,w,h = cv2.boundingRect(c)\n",
    "    cv2.rectangle(orig_image,(x,y),(x+w,y+h),(0,0,255),2)    \n",
    "    cv2.imshow('Bounding Rectangle', orig_image)\n",
    "\n",
    "cv2.waitKey(0) \n",
    "    \n",
    "# Iterate through each contour and compute the approx contour\n",
    "for c in contours:\n",
    "    # Calculate accuracy as a percent of the contour perimeter\n",
    "    accuracy = 0.03 * cv2.arcLength(c, True)\n",
    "    approx = cv2.approxPolyDP(c, accuracy, True)\n",
    "    cv2.drawContours(image, [approx], 0, (0, 255, 0), 2)\n",
    "    cv2.imshow('Approx Poly DP', image)\n",
    "    \n",
    "cv2.waitKey(0)   \n",
    "cv2.destroyAllWindows()"
   ]
  },
  {
   "cell_type": "markdown",
   "id": "5aa9d37a",
   "metadata": {},
   "source": [
    "# Convex Hull"
   ]
  },
  {
   "cell_type": "code",
   "execution_count": null,
   "id": "60e27bbb",
   "metadata": {},
   "outputs": [],
   "source": [
    "import numpy as np\n",
    "import cv2\n",
    "\n",
    "image = cv2.imread(r\"D:\\SaxonSirNotes\\openCV\\Part 2\\9.1 MasteringComputerVision_V1.03.zip\\Master OpenCV\\images\\hand.jpg\")\n",
    "gray = cv2.cvtColor(image, cv2.COLOR_BGR2GRAY)\n",
    "\n",
    "cv2.imshow(\"Original Image\", image)\n",
    "cv2.waitKey(0)\n",
    "\n",
    "# Threshold the image\n",
    "ret, thresh = cv2.threshold(gray, 176, 255,0)\n",
    "\n",
    "# Find contours\n",
    "contours, hierarchy = cv2.findContours(thresh.copy(),cv2.RETR_LIST, cv2.CHAIN_APPROX_NONE)\n",
    "\n",
    "# Sort Contors by area and then remove the largest frame contour\n",
    "n= len(contours) - 1\n",
    "contours = sorted(contours, key=cv2.contourArea, reverse=False)[:n]\n",
    "\n",
    "# Iterate through contours and draw the convex hull\n",
    "for c in contours:\n",
    "    hull = cv2.convexHull(c)\n",
    "    cv2.drawContours(image, [hull], 0, (0, 255, 0), 2)\n",
    "    cv2.imshow('convex Hull', image)\n",
    "   \n",
    "cv2.waitKey(0)\n",
    "cv2.destroyAllWindows()"
   ]
  },
  {
   "cell_type": "markdown",
   "id": "e8b837af",
   "metadata": {},
   "source": [
    "# Shape Matching\n",
    "\n",
    "cv2.matchShapes(contour tmpleate, contour, method, method parameter)\n",
    "\n",
    "Output-match value(lower values means a closer match)\n",
    "\n",
    "* Countour Template - This is our referance contour that we'r trying to find in the new image\n",
    "* Contour - The individual contour we are checking against\n",
    "* Method - Type of contour matching(1,2,3)\n",
    "* Method Parameter - leave alone as 0.0 (not fully utilized in python OpenCV)"
   ]
  },
  {
   "cell_type": "code",
   "execution_count": 6,
   "id": "cca4a7de",
   "metadata": {},
   "outputs": [
    {
     "name": "stdout",
     "output_type": "stream",
     "text": [
      "0.13081816783853514\n",
      "0.1590200533978871\n",
      "0.1498791568252558\n",
      "0.07094034474475601\n"
     ]
    }
   ],
   "source": [
    "import cv2\n",
    "import numpy as np\n",
    "\n",
    "# Load the shape template or reference image\n",
    "template = cv2.imread(r\"D:\\SaxonSirNotes\\openCV\\Part 2\\9.1 MasteringComputerVision_V1.03.zip\\Master OpenCV\\images\\4star.jpg\",0)\n",
    "cv2.imshow('Template', template)\n",
    "cv2.waitKey()\n",
    "\n",
    "# Load the target image with the shapes we're trying to match\n",
    "target = cv2.imread(r\"D:\\SaxonSirNotes\\openCV\\Part 2\\9.1 MasteringComputerVision_V1.03.zip\\Master OpenCV\\images\\shapestomatch.jpg\")\n",
    "target_gray = cv2.cvtColor(target,cv2.COLOR_BGR2GRAY)\n",
    "\n",
    "# Threshold both images first before using cv2.findContours\n",
    "ret, thresh1 = cv2.threshold(template, 127, 255, 0)\n",
    "ret, thresh2 = cv2.threshold(target_gray, 127, 255, 0)\n",
    "\n",
    "# Find contours in template\n",
    "contours, hierarchy = cv2.findContours(thresh1, cv2.RETR_CCOMP, cv2.CHAIN_APPROX_SIMPLE)\n",
    "\n",
    "# We need to sort the contours by area so that we can remove the largest\n",
    "# contour which is the image outline\n",
    "sorted_contours = sorted(contours, key=cv2.contourArea, reverse=True)\n",
    "\n",
    "# We extract the second largest contour which will be our template contour\n",
    "template_contour = contours[1]\n",
    "\n",
    "# Extract contours from second target image\n",
    "contours, hierarchy = cv2.findContours(thresh2, cv2.RETR_CCOMP, cv2.CHAIN_APPROX_SIMPLE)\n",
    "\n",
    "for c in contours:\n",
    "    # Iterate through each contour in the target image and \n",
    "    # use cv2.matchShapes to compare contour shapes\n",
    "    match = cv2.matchShapes(template_contour, c, 3, 0.0)\n",
    "    print (match)\n",
    "    # If the match value is less than 0.15 we\n",
    "    if match < 0.15:\n",
    "        closest_contour = c\n",
    "    else:\n",
    "        closest_contour = [] \n",
    "                \n",
    "cv2.drawContours(target, [closest_contour], -1, (0,255,0), 3)\n",
    "cv2.imshow('Output', target)\n",
    "cv2.waitKey()\n",
    "cv2.destroyAllWindows()"
   ]
  },
  {
   "cell_type": "markdown",
   "id": "796b6c56",
   "metadata": {},
   "source": [
    "# Mini Project  1 -Live Sketch UsingWebcam"
   ]
  },
  {
   "cell_type": "code",
   "execution_count": 8,
   "id": "2e5f4a5c",
   "metadata": {},
   "outputs": [],
   "source": [
    "import cv2\n",
    "import numpy as np\n",
    "\n",
    "# Our sketch generating function\n",
    "def sketch(image):\n",
    "    # Convert image to grayscale\n",
    "    img_gray = cv2.cvtColor(image, cv2.COLOR_BGR2GRAY)\n",
    "    \n",
    "    # Clean up image using Guassian Blur\n",
    "    img_gray_blur = cv2.GaussianBlur(img_gray, (5,5), 0)\n",
    "    \n",
    "    # Extract edges\n",
    "    canny_edges = cv2.Canny(img_gray_blur, 10, 70)\n",
    "    \n",
    "    # Do an invert binarize the image \n",
    "    ret, mask = cv2.threshold(canny_edges, 70, 255, cv2.THRESH_BINARY_INV)\n",
    "    return mask\n",
    "\n",
    "\n",
    "# Initialize webcam, cap is the object provided by VideoCapture\n",
    "# It contains a boolean indicating if it was sucessful (ret)\n",
    "# It also contains the images collected from the webcam (frame)\n",
    "cap = cv2.VideoCapture(0)\n",
    "\n",
    "while True:\n",
    "    ret, frame = cap.read()\n",
    "    cv2.imshow('Our Live Sketcher', sketch(frame))\n",
    "    if cv2.waitKey(1) == 13: #13 is the Enter Key\n",
    "        break\n",
    "        \n",
    "# Release camera and close window\n",
    "cap.release()\n",
    "cv2.destroyAllWindows()     "
   ]
  },
  {
   "cell_type": "markdown",
   "id": "3023eb74",
   "metadata": {},
   "source": [
    "## Mini Project  - Identifiy Contours by Shape"
   ]
  },
  {
   "cell_type": "code",
   "execution_count": 9,
   "id": "2fb686f8",
   "metadata": {},
   "outputs": [
    {
     "data": {
      "text/plain": [
       "'Cx and Cy are the coordinates \\n(in pixels) of the principal point in your image. \\nUsually a good approximation is (image_width/2, image_height/2)'"
      ]
     },
     "execution_count": 9,
     "metadata": {},
     "output_type": "execute_result"
    }
   ],
   "source": [
    "import numpy as np\n",
    "import cv2\n",
    "\n",
    "# Load and then gray scale image\n",
    "\n",
    "image = cv2.imread(r\"D:\\SaxonSirNotes\\openCV\\Part 2\\9.1 MasteringComputerVision_V1.03.zip\\Master OpenCV\\images\\someshapes.jpg\")\n",
    "gray = cv2.cvtColor(image, cv2.COLOR_BGR2GRAY)\n",
    "\n",
    "cv2.imshow('Identifying Shapes',image)\n",
    "cv2.waitKey(0)\n",
    "\n",
    "ret, thresh = cv2.threshold(gray, 127, 255, 1)\n",
    "\n",
    "# Extract Contours\n",
    "contours, hierarchy = cv2.findContours(thresh.copy(), cv2.RETR_LIST, cv2.CHAIN_APPROX_NONE)\n",
    "\n",
    "for cnt in contours:\n",
    "    \n",
    "    # Get approximate polygons\n",
    "    approx = cv2.approxPolyDP(cnt, 0.01*cv2.arcLength(cnt,True),True)\n",
    "    \n",
    "    if len(approx) == 3:\n",
    "        shape_name = \"Triangle\"\n",
    "        cv2.drawContours(image,[cnt],0,(0,255,0),-1)\n",
    "        \n",
    "        # Find contour center to place text at the center\n",
    "        M = cv2.moments(cnt)\n",
    "        cx = int(M['m10'] / M['m00'])\n",
    "        cy = int(M['m01'] / M['m00'])\n",
    "        cv2.putText(image, shape_name, (cx-50, cy), cv2.FONT_HERSHEY_SIMPLEX, 1, (0, 0, 0), 1)\n",
    "    \n",
    "    elif len(approx) == 4:\n",
    "        x,y,w,h = cv2.boundingRect(cnt)\n",
    "        M = cv2.moments(cnt)\n",
    "        cx = int(M['m10'] / M['m00'])\n",
    "        cy = int(M['m01'] / M['m00'])\n",
    "        \n",
    "        # Check to see if 4-side polygon is square or rectangle\n",
    "        # cv2.boundingRect returns the top left and then width and \n",
    "        if abs(w-h) <= 3:\n",
    "            shape_name = \"Square\"\n",
    "            \n",
    "            # Find contour center to place text at the center\n",
    "            cv2.drawContours(image, [cnt], 0, (0, 125 ,255), -1)\n",
    "            cv2.putText(image, shape_name, (cx-50, cy), cv2.FONT_HERSHEY_SIMPLEX, 1, (0, 0, 0), 1)\n",
    "        else:\n",
    "            shape_name = \"Rectangle\"\n",
    "            \n",
    "            # Find contour center to place text at the center\n",
    "            cv2.drawContours(image, [cnt], 0, (0, 0, 255), -1)\n",
    "            M = cv2.moments(cnt)\n",
    "            cx = int(M['m10'] / M['m00'])\n",
    "            cy = int(M['m01'] / M['m00'])\n",
    "            cv2.putText(image, shape_name, (cx-50, cy), cv2.FONT_HERSHEY_SIMPLEX, 1, (0, 0, 0), 1)\n",
    "            \n",
    "    elif len(approx) == 10:\n",
    "        shape_name = \"Star\"\n",
    "        cv2.drawContours(image, [cnt], 0, (255, 255, 0), -1)\n",
    "        M = cv2.moments(cnt)\n",
    "        cx = int(M['m10'] / M['m00'])\n",
    "        cy = int(M['m01'] / M['m00'])\n",
    "        cv2.putText(image, shape_name, (cx-50, cy), cv2.FONT_HERSHEY_SIMPLEX, 1, (0, 0, 0), 1)\n",
    "        \n",
    "        \n",
    "        \n",
    "    elif len(approx) >= 15:\n",
    "        shape_name = \"Circle\"\n",
    "        cv2.drawContours(image, [cnt], 0, (0, 255, 255), -1)\n",
    "        M = cv2.moments(cnt)\n",
    "        cx = int(M['m10'] / M['m00'])\n",
    "        cy = int(M['m01'] / M['m00'])\n",
    "        cv2.putText(image, shape_name, (cx-50, cy), cv2.FONT_HERSHEY_SIMPLEX, 1, (0, 0, 0), 1)\n",
    "\n",
    "    cv2.imshow('Identifying Shapes',image)\n",
    "    cv2.waitKey(0)\n",
    "    \n",
    "cv2.destroyAllWindows()\n",
    "\n",
    "\n",
    "\"\"\"Cx and Cy are the coordinates \n",
    "(in pixels) of the principal point in your image. \n",
    "Usually a good approximation is (image_width/2, image_height/2)\"\"\""
   ]
  },
  {
   "cell_type": "raw",
   "id": "201f732a",
   "metadata": {},
   "source": [
    "To recognise and identify the contours of particular shapes, such as triangles, rectangles, and circles in an image, the little project uses Python and OpenCV. The project consists of a number of phases, including importing the required libraries, loading the image, converting it to grayscale, applying threshold, detecting contours, iterating through contours, filtering shapes based on desired shape, and presenting the final image with detected shapes. The project may be helpful for identifying particular forms in an image and may be expanded for use in a variety of applications, including item detection and recognition, automated inspection, and quality control in industrial settings."
   ]
  },
  {
   "cell_type": "code",
   "execution_count": null,
   "id": "8b10f72f",
   "metadata": {},
   "outputs": [],
   "source": []
  }
 ],
 "metadata": {
  "kernelspec": {
   "display_name": "Python 3 (ipykernel)",
   "language": "python",
   "name": "python3"
  },
  "language_info": {
   "codemirror_mode": {
    "name": "ipython",
    "version": 3
   },
   "file_extension": ".py",
   "mimetype": "text/x-python",
   "name": "python",
   "nbconvert_exporter": "python",
   "pygments_lexer": "ipython3",
   "version": "3.9.13"
  }
 },
 "nbformat": 4,
 "nbformat_minor": 5
}
